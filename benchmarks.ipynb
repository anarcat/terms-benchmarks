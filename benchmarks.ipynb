{
 "cells": [
  {
   "cell_type": "code",
   "execution_count": 1,
   "metadata": {
    "collapsed": true
   },
   "outputs": [],
   "source": [
    "from matplotlib import pyplot as plt\n",
    "import pandas\n",
    "import seaborn as sns\n",
    "\n",
    "\n",
    "%matplotlib inline\n",
    "\n",
    "FIG_WIDTH=20\n",
    "FIG_HEIGTH=8"
   ]
  },
  {
   "cell_type": "code",
   "execution_count": 16,
   "metadata": {
    "collapsed": false
   },
   "outputs": [
    {
     "data": {
      "text/html": [
       "<div>\n",
       "<table border=\"1\" class=\"dataframe\">\n",
       "  <thead>\n",
       "    <tr style=\"text-align: right;\">\n",
       "      <th></th>\n",
       "      <th>time (s)</th>\n",
       "      <th>cpu (%)</th>\n",
       "      <th>memory (k)</th>\n",
       "    </tr>\n",
       "  </thead>\n",
       "  <tbody>\n",
       "    <tr>\n",
       "      <th>count</th>\n",
       "      <td>8.000000</td>\n",
       "      <td>8.000000</td>\n",
       "      <td>8.00000</td>\n",
       "    </tr>\n",
       "    <tr>\n",
       "      <th>mean</th>\n",
       "      <td>9.310000</td>\n",
       "      <td>52.000000</td>\n",
       "      <td>1899.50000</td>\n",
       "    </tr>\n",
       "    <tr>\n",
       "      <th>std</th>\n",
       "      <td>8.587186</td>\n",
       "      <td>34.739849</td>\n",
       "      <td>71.60008</td>\n",
       "    </tr>\n",
       "    <tr>\n",
       "      <th>min</th>\n",
       "      <td>2.520000</td>\n",
       "      <td>13.000000</td>\n",
       "      <td>1800.00000</td>\n",
       "    </tr>\n",
       "    <tr>\n",
       "      <th>25%</th>\n",
       "      <td>3.060000</td>\n",
       "      <td>26.000000</td>\n",
       "      <td>1863.00000</td>\n",
       "    </tr>\n",
       "    <tr>\n",
       "      <th>50%</th>\n",
       "      <td>6.110000</td>\n",
       "      <td>43.000000</td>\n",
       "      <td>1884.00000</td>\n",
       "    </tr>\n",
       "    <tr>\n",
       "      <th>75%</th>\n",
       "      <td>11.477500</td>\n",
       "      <td>83.000000</td>\n",
       "      <td>1954.00000</td>\n",
       "    </tr>\n",
       "    <tr>\n",
       "      <th>max</th>\n",
       "      <td>26.050000</td>\n",
       "      <td>99.000000</td>\n",
       "      <td>2000.00000</td>\n",
       "    </tr>\n",
       "  </tbody>\n",
       "</table>\n",
       "</div>"
      ],
      "text/plain": [
       "        time (s)    cpu (%)  memory (k)\n",
       "count   8.000000   8.000000     8.00000\n",
       "mean    9.310000  52.000000  1899.50000\n",
       "std     8.587186  34.739849    71.60008\n",
       "min     2.520000  13.000000  1800.00000\n",
       "25%     3.060000  26.000000  1863.00000\n",
       "50%     6.110000  43.000000  1884.00000\n",
       "75%    11.477500  83.000000  1954.00000\n",
       "max    26.050000  99.000000  2000.00000"
      ]
     },
     "execution_count": 16,
     "metadata": {},
     "output_type": "execute_result"
    }
   ],
   "source": [
    "resources = pandas.read_csv('performance.csv')\n",
    "\n",
    "ignored_terms = ['xvt',  # rare\n",
    "                 'eterm',  # too old\n",
    "                 'kterm',  # too old\n",
    "                 'mrxvt',  # mostly like rxvt\n",
    "                 'xfce4-terminal',  # like gnome-terminal\n",
    "                 'xfce4',  # synonym\n",
    "                 'terminator',  # synonym\n",
    "                 'Terminator']  # like gnome-terminal\n",
    "for terminal in ignored_terms:\n",
    "    resources = resources[resources.terminal != terminal]  # rare\n",
    "resources = resources.sort_values(by='time (s)')\n",
    "resources.sort_values(by='time (s)')\n",
    "resources.describe()"
   ]
  },
  {
   "cell_type": "code",
   "execution_count": 17,
   "metadata": {
    "collapsed": false
   },
   "outputs": [
    {
     "data": {
      "text/plain": [
       "<matplotlib.axes._subplots.AxesSubplot at 0x7f2571fdba58>"
      ]
     },
     "execution_count": 17,
     "metadata": {},
     "output_type": "execute_result"
    },
    {
     "data": {
      "image/png": "[encoded data removed]",
      "text/plain": [
       "<matplotlib.figure.Figure at 0x7f2572012ef0>"
      ]
     },
     "metadata": {},
     "output_type": "display_data"
    }
   ],
   "source": [
    "fig, _ = plt.subplots()\n",
    "fig.set_figwidth(FIG_WIDTH)\n",
    "fig.set_figheight(FIG_HEIGTH)\n",
    "\n",
    "sns.barplot(data=resources, x='terminal', y='time (s)', palette='colorblind')\n",
    "#g = sns.PairGrid(resources,\n",
    "#                 x_vars='terminal',\n",
    "#                 y_vars=['time (s)', 'cpu (%)', 'memory (k)'])\n",
    "#g.map(sns.barplot, palette=\"colorblind\")\n",
    "#g.fig.set_figwidth(FIG_WIDTH)\n",
    "#g.fig.set_figheight(FIG_HEIGTH)"
   ]
  },
  {
   "cell_type": "code",
   "execution_count": 18,
   "metadata": {
    "collapsed": false
   },
   "outputs": [
    {
     "data": {
      "text/html": [
       "<div>\n",
       "<table border=\"1\" class=\"dataframe\">\n",
       "  <thead>\n",
       "    <tr style=\"text-align: right;\">\n",
       "      <th></th>\n",
       "      <th>xterm</th>\n",
       "      <th>mlterm</th>\n",
       "      <th>kterm</th>\n",
       "      <th>mrxvt</th>\n",
       "      <th>xvt</th>\n",
       "      <th>konsole</th>\n",
       "      <th>urxvt</th>\n",
       "      <th>st</th>\n",
       "      <th>alacritty</th>\n",
       "      <th>putty</th>\n",
       "      <th>xfce4</th>\n",
       "      <th>gnome</th>\n",
       "      <th>terminator</th>\n",
       "    </tr>\n",
       "  </thead>\n",
       "  <tbody>\n",
       "    <tr>\n",
       "      <th>count</th>\n",
       "      <td>200.000000</td>\n",
       "      <td>200.000000</td>\n",
       "      <td>200.000000</td>\n",
       "      <td>200.00000</td>\n",
       "      <td>200.000000</td>\n",
       "      <td>200.000000</td>\n",
       "      <td>200.000000</td>\n",
       "      <td>200.000000</td>\n",
       "      <td>200.000000</td>\n",
       "      <td>200.00000</td>\n",
       "      <td>200.000000</td>\n",
       "      <td>200.00000</td>\n",
       "      <td>200.000000</td>\n",
       "    </tr>\n",
       "    <tr>\n",
       "      <th>mean</th>\n",
       "      <td>9.559500</td>\n",
       "      <td>10.046650</td>\n",
       "      <td>10.391600</td>\n",
       "      <td>13.61730</td>\n",
       "      <td>13.940750</td>\n",
       "      <td>19.579500</td>\n",
       "      <td>23.472000</td>\n",
       "      <td>23.825700</td>\n",
       "      <td>24.186400</td>\n",
       "      <td>27.75480</td>\n",
       "      <td>31.929900</td>\n",
       "      <td>32.47470</td>\n",
       "      <td>32.686600</td>\n",
       "    </tr>\n",
       "    <tr>\n",
       "      <th>std</th>\n",
       "      <td>3.610077</td>\n",
       "      <td>3.980015</td>\n",
       "      <td>4.078467</td>\n",
       "      <td>4.09194</td>\n",
       "      <td>3.654527</td>\n",
       "      <td>3.006935</td>\n",
       "      <td>1.890329</td>\n",
       "      <td>1.943724</td>\n",
       "      <td>6.140052</td>\n",
       "      <td>1.93073</td>\n",
       "      <td>1.706501</td>\n",
       "      <td>1.71692</td>\n",
       "      <td>1.516362</td>\n",
       "    </tr>\n",
       "    <tr>\n",
       "      <th>min</th>\n",
       "      <td>3.030000</td>\n",
       "      <td>3.750000</td>\n",
       "      <td>2.210000</td>\n",
       "      <td>3.95000</td>\n",
       "      <td>7.540000</td>\n",
       "      <td>13.750000</td>\n",
       "      <td>19.220000</td>\n",
       "      <td>15.990000</td>\n",
       "      <td>8.280000</td>\n",
       "      <td>23.64000</td>\n",
       "      <td>28.160000</td>\n",
       "      <td>28.26000</td>\n",
       "      <td>28.720000</td>\n",
       "    </tr>\n",
       "    <tr>\n",
       "      <th>25%</th>\n",
       "      <td>5.647500</td>\n",
       "      <td>5.407500</td>\n",
       "      <td>5.487500</td>\n",
       "      <td>11.93750</td>\n",
       "      <td>11.067500</td>\n",
       "      <td>16.750000</td>\n",
       "      <td>22.272500</td>\n",
       "      <td>22.817500</td>\n",
       "      <td>22.562500</td>\n",
       "      <td>25.88750</td>\n",
       "      <td>30.907500</td>\n",
       "      <td>31.43250</td>\n",
       "      <td>31.742500</td>\n",
       "    </tr>\n",
       "    <tr>\n",
       "      <th>50%</th>\n",
       "      <td>9.460000</td>\n",
       "      <td>11.820000</td>\n",
       "      <td>12.605000</td>\n",
       "      <td>13.42500</td>\n",
       "      <td>12.915000</td>\n",
       "      <td>20.410000</td>\n",
       "      <td>23.670000</td>\n",
       "      <td>23.800000</td>\n",
       "      <td>26.045000</td>\n",
       "      <td>28.09500</td>\n",
       "      <td>31.830000</td>\n",
       "      <td>32.64500</td>\n",
       "      <td>32.850000</td>\n",
       "    </tr>\n",
       "    <tr>\n",
       "      <th>75%</th>\n",
       "      <td>13.162500</td>\n",
       "      <td>13.740000</td>\n",
       "      <td>13.980000</td>\n",
       "      <td>17.12750</td>\n",
       "      <td>17.895000</td>\n",
       "      <td>21.780000</td>\n",
       "      <td>25.005000</td>\n",
       "      <td>25.372500</td>\n",
       "      <td>28.485000</td>\n",
       "      <td>29.23000</td>\n",
       "      <td>33.235000</td>\n",
       "      <td>33.71500</td>\n",
       "      <td>33.572500</td>\n",
       "    </tr>\n",
       "    <tr>\n",
       "      <th>max</th>\n",
       "      <td>15.040000</td>\n",
       "      <td>15.240000</td>\n",
       "      <td>17.940000</td>\n",
       "      <td>21.63000</td>\n",
       "      <td>21.090000</td>\n",
       "      <td>28.350000</td>\n",
       "      <td>27.010000</td>\n",
       "      <td>29.170000</td>\n",
       "      <td>32.330000</td>\n",
       "      <td>31.65000</td>\n",
       "      <td>36.080000</td>\n",
       "      <td>36.79000</td>\n",
       "      <td>38.790000</td>\n",
       "    </tr>\n",
       "  </tbody>\n",
       "</table>\n",
       "</div>"
      ],
      "text/plain": [
       "            xterm      mlterm       kterm      mrxvt         xvt     konsole  \\\n",
       "count  200.000000  200.000000  200.000000  200.00000  200.000000  200.000000   \n",
       "mean     9.559500   10.046650   10.391600   13.61730   13.940750   19.579500   \n",
       "std      3.610077    3.980015    4.078467    4.09194    3.654527    3.006935   \n",
       "min      3.030000    3.750000    2.210000    3.95000    7.540000   13.750000   \n",
       "25%      5.647500    5.407500    5.487500   11.93750   11.067500   16.750000   \n",
       "50%      9.460000   11.820000   12.605000   13.42500   12.915000   20.410000   \n",
       "75%     13.162500   13.740000   13.980000   17.12750   17.895000   21.780000   \n",
       "max     15.040000   15.240000   17.940000   21.63000   21.090000   28.350000   \n",
       "\n",
       "            urxvt          st   alacritty      putty       xfce4      gnome  \\\n",
       "count  200.000000  200.000000  200.000000  200.00000  200.000000  200.00000   \n",
       "mean    23.472000   23.825700   24.186400   27.75480   31.929900   32.47470   \n",
       "std      1.890329    1.943724    6.140052    1.93073    1.706501    1.71692   \n",
       "min     19.220000   15.990000    8.280000   23.64000   28.160000   28.26000   \n",
       "25%     22.272500   22.817500   22.562500   25.88750   30.907500   31.43250   \n",
       "50%     23.670000   23.800000   26.045000   28.09500   31.830000   32.64500   \n",
       "75%     25.005000   25.372500   28.485000   29.23000   33.235000   33.71500   \n",
       "max     27.010000   29.170000   32.330000   31.65000   36.080000   36.79000   \n",
       "\n",
       "       terminator  \n",
       "count  200.000000  \n",
       "mean    32.686600  \n",
       "std      1.516362  \n",
       "min     28.720000  \n",
       "25%     31.742500  \n",
       "50%     32.850000  \n",
       "75%     33.572500  \n",
       "max     38.790000  "
      ]
     },
     "execution_count": 18,
     "metadata": {},
     "output_type": "execute_result"
    }
   ],
   "source": [
    "latency = pandas.read_csv('latency-all.csv')\n",
    "\n",
    "for terminal in []:  # use ignored_terms to skip the same as above\n",
    "    try:\n",
    "        latency.drop(terminal, axis=1, inplace=True)\n",
    "    except ValueError:\n",
    "        pass\n",
    "latency.describe()"
   ]
  },
  {
   "cell_type": "code",
   "execution_count": 10,
   "metadata": {
    "collapsed": false,
    "scrolled": true
   },
   "outputs": [
    {
     "data": {
      "text/plain": [
       "<matplotlib.text.Text at 0x7f25722a2198>"
      ]
     },
     "execution_count": 10,
     "metadata": {},
     "output_type": "execute_result"
    },
    {
     "data": {
      "image/png": "[encoded data removed]",
      "text/plain": [
       "<matplotlib.figure.Figure at 0x7f257236c9b0>"
      ]
     },
     "metadata": {},
     "output_type": "display_data"
    }
   ],
   "source": [
    "fig, _ = plt.subplots()\n",
    "fig.set_figwidth(FIG_WIDTH)\n",
    "fig.set_figheight(FIG_HEIGTH)\n",
    "\n",
    "ax = sns.boxplot(data=latency, palette='colorblind')\n",
    "ax.set_title('Input latency')\n",
    "ax.set_xlabel('terminal')\n",
    "ax.set_ylabel('latency (ms)')"
   ]
  },
  {
   "cell_type": "code",
   "execution_count": 13,
   "metadata": {
    "collapsed": false
   },
   "outputs": [
    {
     "data": {
      "text/html": [
       "<div>\n",
       "<table border=\"1\" class=\"dataframe\">\n",
       "  <thead>\n",
       "    <tr style=\"text-align: right;\">\n",
       "      <th></th>\n",
       "      <th>time</th>\n",
       "      <th>cpu</th>\n",
       "      <th>memory</th>\n",
       "    </tr>\n",
       "  </thead>\n",
       "  <tbody>\n",
       "    <tr>\n",
       "      <th>count</th>\n",
       "      <td>806.000000</td>\n",
       "      <td>806.000000</td>\n",
       "      <td>806.000000</td>\n",
       "    </tr>\n",
       "    <tr>\n",
       "      <th>mean</th>\n",
       "      <td>1.105881</td>\n",
       "      <td>138.888337</td>\n",
       "      <td>30745.334988</td>\n",
       "    </tr>\n",
       "    <tr>\n",
       "      <th>std</th>\n",
       "      <td>0.787527</td>\n",
       "      <td>25.121764</td>\n",
       "      <td>15464.080042</td>\n",
       "    </tr>\n",
       "    <tr>\n",
       "      <th>min</th>\n",
       "      <td>0.110000</td>\n",
       "      <td>47.000000</td>\n",
       "      <td>8324.000000</td>\n",
       "    </tr>\n",
       "    <tr>\n",
       "      <th>25%</th>\n",
       "      <td>0.480000</td>\n",
       "      <td>115.000000</td>\n",
       "      <td>22958.000000</td>\n",
       "    </tr>\n",
       "    <tr>\n",
       "      <th>50%</th>\n",
       "      <td>0.870000</td>\n",
       "      <td>127.500000</td>\n",
       "      <td>30642.000000</td>\n",
       "    </tr>\n",
       "    <tr>\n",
       "      <th>75%</th>\n",
       "      <td>1.970000</td>\n",
       "      <td>164.000000</td>\n",
       "      <td>48852.000000</td>\n",
       "    </tr>\n",
       "    <tr>\n",
       "      <th>max</th>\n",
       "      <td>3.210000</td>\n",
       "      <td>179.000000</td>\n",
       "      <td>55664.000000</td>\n",
       "    </tr>\n",
       "  </tbody>\n",
       "</table>\n",
       "</div>"
      ],
      "text/plain": [
       "             time         cpu        memory\n",
       "count  806.000000  806.000000    806.000000\n",
       "mean     1.105881  138.888337  30745.334988\n",
       "std      0.787527   25.121764  15464.080042\n",
       "min      0.110000   47.000000   8324.000000\n",
       "25%      0.480000  115.000000  22958.000000\n",
       "50%      0.870000  127.500000  30642.000000\n",
       "75%      1.970000  164.000000  48852.000000\n",
       "max      3.210000  179.000000  55664.000000"
      ]
     },
     "execution_count": 13,
     "metadata": {},
     "output_type": "execute_result"
    }
   ],
   "source": [
    "data = pandas.read_csv('times-100x100000.csv')\n",
    "data.describe()"
   ]
  },
  {
   "cell_type": "code",
   "execution_count": 5,
   "metadata": {
    "collapsed": false
   },
   "outputs": [
    {
     "data": {
      "text/plain": [
       "<matplotlib.text.Text at 0x7f2572d50ef0>"
      ]
     },
     "execution_count": 5,
     "metadata": {},
     "output_type": "execute_result"
    },
    {
     "data": {
      "image/png": "[encoded data removed]",
      "text/plain": [
       "<matplotlib.figure.Figure at 0x7f2572bceda0>"
      ]
     },
     "metadata": {},
     "output_type": "display_data"
    }
   ],
   "source": [
    "fig, _ = plt.subplots()\n",
    "fig.set_figwidth(FIG_WIDTH)\n",
    "fig.set_figheight(FIG_HEIGTH)\n",
    "\n",
    "# lots of outliers in xterm, some in pterm, but others have too little variability\n",
    "ax = sns.boxplot(data=data, x='terminal', y='time', palette='colorblind')\n",
    "ax = sns.barplot(data=data, x='terminal', y='time', palette='colorblind')\n",
    "ax.set_title('Processing time (smaller is better)')\n",
    "ax.set_ylabel('time (s)')"
   ]
  },
  {
   "cell_type": "code",
   "execution_count": 6,
   "metadata": {
    "collapsed": false
   },
   "outputs": [
    {
     "data": {
      "image/png": "[encoded data removed]",
      "text/plain": [
       "<matplotlib.figure.Figure at 0x7f2572c26048>"
      ]
     },
     "metadata": {},
     "output_type": "display_data"
    }
   ],
   "source": [
    "small = pandas.read_csv('times-10x10000.csv')\n",
    "ax = sns.boxplot(data=small, x='terminal', y='time')"
   ]
  },
  {
   "cell_type": "code",
   "execution_count": 7,
   "metadata": {
    "collapsed": false
   },
   "outputs": [
    {
     "data": {
      "text/plain": [
       "<matplotlib.text.Text at 0x7f2572bb2048>"
      ]
     },
     "execution_count": 7,
     "metadata": {},
     "output_type": "execute_result"
    },
    {
     "data": {
      "image/png": "[encoded data removed]",
      "text/plain": [
       "<matplotlib.figure.Figure at 0x7f25726d41d0>"
      ]
     },
     "metadata": {},
     "output_type": "display_data"
    }
   ],
   "source": [
    "fig, _ = plt.subplots()\n",
    "fig.set_figwidth(FIG_WIDTH)\n",
    "fig.set_figheight(FIG_HEIGTH)\n",
    "\n",
    "ax = sns.barplot(data=data, x='terminal', y='cpu', palette='colorblind')\n",
    "ax = sns.boxplot(data=data, x='terminal', y='cpu', palette='colorblind')\n",
    "ax.set_title('CPU usage (correlates inversly with speed)')\n",
    "ax.set_ylabel('CPU (%)')"
   ]
  },
  {
   "cell_type": "code",
   "execution_count": 11,
   "metadata": {
    "collapsed": false
   },
   "outputs": [
    {
     "data": {
      "text/plain": [
       "<matplotlib.text.Text at 0x7f25722f6128>"
      ]
     },
     "execution_count": 11,
     "metadata": {},
     "output_type": "execute_result"
    },
    {
     "data": {
      "image/png": "[encoded data removed]",
      "text/plain": [
       "<matplotlib.figure.Figure at 0x7f2572379278>"
      ]
     },
     "metadata": {},
     "output_type": "display_data"
    }
   ],
   "source": [
    "fig, _ = plt.subplots()\n",
    "fig.set_figwidth(FIG_WIDTH)\n",
    "fig.set_figheight(FIG_HEIGTH)\n",
    "\n",
    "# no visible variability, apart from an outlier in xterm\n",
    "ax = sns.boxplot(data=data, x='terminal', y='memory', palette='colorblind')\n",
    "ax = sns.barplot(data=data, x='terminal', y='memory', palette='colorblind')\n",
    "ax.set_title('Memory usage')\n",
    "ax.set_ylabel('memory (k)')\n"
   ]
  }
 ],
 "metadata": {
  "celltoolbar": "Raw Cell Format",
  "kernelspec": {
   "display_name": "Python 3",
   "language": "python",
   "name": "python3"
  },
  "language_info": {
   "codemirror_mode": {
    "name": "ipython",
    "version": 3
   },
   "file_extension": ".py",
   "mimetype": "text/x-python",
   "name": "python",
   "nbconvert_exporter": "python",
   "pygments_lexer": "ipython3",
   "version": "3.5.3"
  }
 },
 "nbformat": 4,
 "nbformat_minor": 2
}
