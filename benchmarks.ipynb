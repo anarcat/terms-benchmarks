{
 "cells": [
  {
   "cell_type": "code",
   "execution_count": 1,
   "metadata": {
    "collapsed": true
   },
   "outputs": [],
   "source": [
    "from matplotlib import pyplot as plt\n",
    "import pandas\n",
    "import seaborn as sns\n",
    "\n",
    "%matplotlib inline\n",
    "\n",
    "sns.set(rc={'image.cmap': 'cubehelix'})\n",
    "FIG_WIDTH=20\n",
    "FIG_HEIGTH=8"
   ]
  },
  {
   "cell_type": "code",
   "execution_count": 23,
   "metadata": {
    "collapsed": false
   },
   "outputs": [
    {
     "data": {
      "text/html": [
       "<div>\n",
       "<table border=\"1\" class=\"dataframe\">\n",
       "  <thead>\n",
       "    <tr style=\"text-align: right;\">\n",
       "      <th></th>\n",
       "      <th>count</th>\n",
       "      <th>mean</th>\n",
       "      <th>std</th>\n",
       "      <th>min</th>\n",
       "      <th>25%</th>\n",
       "      <th>50%</th>\n",
       "      <th>75%</th>\n",
       "      <th>max</th>\n",
       "    </tr>\n",
       "  </thead>\n",
       "  <tbody>\n",
       "    <tr>\n",
       "      <th>xterm</th>\n",
       "      <td>200.0</td>\n",
       "      <td>9.55950</td>\n",
       "      <td>3.610077</td>\n",
       "      <td>3.03</td>\n",
       "      <td>5.6475</td>\n",
       "      <td>9.460</td>\n",
       "      <td>13.1625</td>\n",
       "      <td>15.04</td>\n",
       "    </tr>\n",
       "    <tr>\n",
       "      <th>mlterm</th>\n",
       "      <td>200.0</td>\n",
       "      <td>10.04665</td>\n",
       "      <td>3.980015</td>\n",
       "      <td>3.75</td>\n",
       "      <td>5.4075</td>\n",
       "      <td>11.820</td>\n",
       "      <td>13.7400</td>\n",
       "      <td>15.24</td>\n",
       "    </tr>\n",
       "    <tr>\n",
       "      <th>kterm</th>\n",
       "      <td>200.0</td>\n",
       "      <td>10.39160</td>\n",
       "      <td>4.078467</td>\n",
       "      <td>2.21</td>\n",
       "      <td>5.4875</td>\n",
       "      <td>12.605</td>\n",
       "      <td>13.9800</td>\n",
       "      <td>17.94</td>\n",
       "    </tr>\n",
       "    <tr>\n",
       "      <th>mrxvt</th>\n",
       "      <td>200.0</td>\n",
       "      <td>13.61730</td>\n",
       "      <td>4.091940</td>\n",
       "      <td>3.95</td>\n",
       "      <td>11.9375</td>\n",
       "      <td>13.425</td>\n",
       "      <td>17.1275</td>\n",
       "      <td>21.63</td>\n",
       "    </tr>\n",
       "    <tr>\n",
       "      <th>xvt</th>\n",
       "      <td>200.0</td>\n",
       "      <td>13.94075</td>\n",
       "      <td>3.654527</td>\n",
       "      <td>7.54</td>\n",
       "      <td>11.0675</td>\n",
       "      <td>12.915</td>\n",
       "      <td>17.8950</td>\n",
       "      <td>21.09</td>\n",
       "    </tr>\n",
       "    <tr>\n",
       "      <th>konsole</th>\n",
       "      <td>200.0</td>\n",
       "      <td>19.57950</td>\n",
       "      <td>3.006935</td>\n",
       "      <td>13.75</td>\n",
       "      <td>16.7500</td>\n",
       "      <td>20.410</td>\n",
       "      <td>21.7800</td>\n",
       "      <td>28.35</td>\n",
       "    </tr>\n",
       "    <tr>\n",
       "      <th>urxvt</th>\n",
       "      <td>200.0</td>\n",
       "      <td>23.47200</td>\n",
       "      <td>1.890329</td>\n",
       "      <td>19.22</td>\n",
       "      <td>22.2725</td>\n",
       "      <td>23.670</td>\n",
       "      <td>25.0050</td>\n",
       "      <td>27.01</td>\n",
       "    </tr>\n",
       "    <tr>\n",
       "      <th>st</th>\n",
       "      <td>200.0</td>\n",
       "      <td>23.82570</td>\n",
       "      <td>1.943724</td>\n",
       "      <td>15.99</td>\n",
       "      <td>22.8175</td>\n",
       "      <td>23.800</td>\n",
       "      <td>25.3725</td>\n",
       "      <td>29.17</td>\n",
       "    </tr>\n",
       "    <tr>\n",
       "      <th>alacritty</th>\n",
       "      <td>200.0</td>\n",
       "      <td>24.18640</td>\n",
       "      <td>6.140052</td>\n",
       "      <td>8.28</td>\n",
       "      <td>22.5625</td>\n",
       "      <td>26.045</td>\n",
       "      <td>28.4850</td>\n",
       "      <td>32.33</td>\n",
       "    </tr>\n",
       "    <tr>\n",
       "      <th>putty</th>\n",
       "      <td>200.0</td>\n",
       "      <td>27.75480</td>\n",
       "      <td>1.930730</td>\n",
       "      <td>23.64</td>\n",
       "      <td>25.8875</td>\n",
       "      <td>28.095</td>\n",
       "      <td>29.2300</td>\n",
       "      <td>31.65</td>\n",
       "    </tr>\n",
       "    <tr>\n",
       "      <th>xfce4</th>\n",
       "      <td>200.0</td>\n",
       "      <td>31.92990</td>\n",
       "      <td>1.706501</td>\n",
       "      <td>28.16</td>\n",
       "      <td>30.9075</td>\n",
       "      <td>31.830</td>\n",
       "      <td>33.2350</td>\n",
       "      <td>36.08</td>\n",
       "    </tr>\n",
       "    <tr>\n",
       "      <th>gnome</th>\n",
       "      <td>200.0</td>\n",
       "      <td>32.47470</td>\n",
       "      <td>1.716920</td>\n",
       "      <td>28.26</td>\n",
       "      <td>31.4325</td>\n",
       "      <td>32.645</td>\n",
       "      <td>33.7150</td>\n",
       "      <td>36.79</td>\n",
       "    </tr>\n",
       "    <tr>\n",
       "      <th>terminator</th>\n",
       "      <td>200.0</td>\n",
       "      <td>32.68660</td>\n",
       "      <td>1.516362</td>\n",
       "      <td>28.72</td>\n",
       "      <td>31.7425</td>\n",
       "      <td>32.850</td>\n",
       "      <td>33.5725</td>\n",
       "      <td>38.79</td>\n",
       "    </tr>\n",
       "  </tbody>\n",
       "</table>\n",
       "</div>"
      ],
      "text/plain": [
       "            count      mean       std    min      25%     50%      75%    max\n",
       "xterm       200.0   9.55950  3.610077   3.03   5.6475   9.460  13.1625  15.04\n",
       "mlterm      200.0  10.04665  3.980015   3.75   5.4075  11.820  13.7400  15.24\n",
       "kterm       200.0  10.39160  4.078467   2.21   5.4875  12.605  13.9800  17.94\n",
       "mrxvt       200.0  13.61730  4.091940   3.95  11.9375  13.425  17.1275  21.63\n",
       "xvt         200.0  13.94075  3.654527   7.54  11.0675  12.915  17.8950  21.09\n",
       "konsole     200.0  19.57950  3.006935  13.75  16.7500  20.410  21.7800  28.35\n",
       "urxvt       200.0  23.47200  1.890329  19.22  22.2725  23.670  25.0050  27.01\n",
       "st          200.0  23.82570  1.943724  15.99  22.8175  23.800  25.3725  29.17\n",
       "alacritty   200.0  24.18640  6.140052   8.28  22.5625  26.045  28.4850  32.33\n",
       "putty       200.0  27.75480  1.930730  23.64  25.8875  28.095  29.2300  31.65\n",
       "xfce4       200.0  31.92990  1.706501  28.16  30.9075  31.830  33.2350  36.08\n",
       "gnome       200.0  32.47470  1.716920  28.26  31.4325  32.645  33.7150  36.79\n",
       "terminator  200.0  32.68660  1.516362  28.72  31.7425  32.850  33.5725  38.79"
      ]
     },
     "execution_count": 23,
     "metadata": {},
     "output_type": "execute_result"
    }
   ],
   "source": [
    "latency = pandas.read_csv('latency-all.csv')\n",
    "\n",
    "for terminal in []:  # use ignored_terms to skip the same as above\n",
    "    try:\n",
    "        latency.drop(terminal, axis=1, inplace=True)\n",
    "    except ValueError:\n",
    "        pass\n",
    "latency.describe().transpose()"
   ]
  },
  {
   "cell_type": "code",
   "execution_count": 29,
   "metadata": {
    "collapsed": false
   },
   "outputs": [
    {
     "name": "stdout",
     "output_type": "stream",
     "text": [
      "|            |   count |    mean |     std |   min |     25% |    50% |     75% |   max |\n",
      "|:-----------|--------:|--------:|--------:|------:|--------:|-------:|--------:|------:|\n",
      "| xterm      |     200 |  9.5595 | 3.61008 |  3.03 |  5.6475 |  9.46  | 13.1625 | 15.04 |\n",
      "| mlterm     |     200 | 10.0466 | 3.98002 |  3.75 |  5.4075 | 11.82  | 13.74   | 15.24 |\n",
      "| kterm      |     200 | 10.3916 | 4.07847 |  2.21 |  5.4875 | 12.605 | 13.98   | 17.94 |\n",
      "| mrxvt      |     200 | 13.6173 | 4.09194 |  3.95 | 11.9375 | 13.425 | 17.1275 | 21.63 |\n",
      "| xvt        |     200 | 13.9408 | 3.65453 |  7.54 | 11.0675 | 12.915 | 17.895  | 21.09 |\n",
      "| konsole    |     200 | 19.5795 | 3.00694 | 13.75 | 16.75   | 20.41  | 21.78   | 28.35 |\n",
      "| urxvt      |     200 | 23.472  | 1.89033 | 19.22 | 22.2725 | 23.67  | 25.005  | 27.01 |\n",
      "| st         |     200 | 23.8257 | 1.94372 | 15.99 | 22.8175 | 23.8   | 25.3725 | 29.17 |\n",
      "| alacritty  |     200 | 24.1864 | 6.14005 |  8.28 | 22.5625 | 26.045 | 28.485  | 32.33 |\n",
      "| putty      |     200 | 27.7548 | 1.93073 | 23.64 | 25.8875 | 28.095 | 29.23   | 31.65 |\n",
      "| xfce4      |     200 | 31.9299 | 1.7065  | 28.16 | 30.9075 | 31.83  | 33.235  | 36.08 |\n",
      "| gnome      |     200 | 32.4747 | 1.71692 | 28.26 | 31.4325 | 32.645 | 33.715  | 36.79 |\n",
      "| terminator |     200 | 32.6866 | 1.51636 | 28.72 | 31.7425 | 32.85  | 33.5725 | 38.79 |\n"
     ]
    },
    {
     "data": {
      "text/html": [
       "<div>\n",
       "<table border=\"1\" class=\"dataframe\">\n",
       "  <thead>\n",
       "    <tr style=\"text-align: right;\">\n",
       "      <th></th>\n",
       "      <th>count</th>\n",
       "      <th>mean</th>\n",
       "      <th>std</th>\n",
       "      <th>min</th>\n",
       "      <th>25%</th>\n",
       "      <th>50%</th>\n",
       "      <th>75%</th>\n",
       "      <th>max</th>\n",
       "    </tr>\n",
       "  </thead>\n",
       "  <tbody>\n",
       "    <tr>\n",
       "      <th>xterm</th>\n",
       "      <td>200.0</td>\n",
       "      <td>9.55950</td>\n",
       "      <td>3.610077</td>\n",
       "      <td>3.03</td>\n",
       "      <td>5.6475</td>\n",
       "      <td>9.460</td>\n",
       "      <td>13.1625</td>\n",
       "      <td>15.04</td>\n",
       "    </tr>\n",
       "    <tr>\n",
       "      <th>mlterm</th>\n",
       "      <td>200.0</td>\n",
       "      <td>10.04665</td>\n",
       "      <td>3.980015</td>\n",
       "      <td>3.75</td>\n",
       "      <td>5.4075</td>\n",
       "      <td>11.820</td>\n",
       "      <td>13.7400</td>\n",
       "      <td>15.24</td>\n",
       "    </tr>\n",
       "    <tr>\n",
       "      <th>kterm</th>\n",
       "      <td>200.0</td>\n",
       "      <td>10.39160</td>\n",
       "      <td>4.078467</td>\n",
       "      <td>2.21</td>\n",
       "      <td>5.4875</td>\n",
       "      <td>12.605</td>\n",
       "      <td>13.9800</td>\n",
       "      <td>17.94</td>\n",
       "    </tr>\n",
       "    <tr>\n",
       "      <th>mrxvt</th>\n",
       "      <td>200.0</td>\n",
       "      <td>13.61730</td>\n",
       "      <td>4.091940</td>\n",
       "      <td>3.95</td>\n",
       "      <td>11.9375</td>\n",
       "      <td>13.425</td>\n",
       "      <td>17.1275</td>\n",
       "      <td>21.63</td>\n",
       "    </tr>\n",
       "    <tr>\n",
       "      <th>xvt</th>\n",
       "      <td>200.0</td>\n",
       "      <td>13.94075</td>\n",
       "      <td>3.654527</td>\n",
       "      <td>7.54</td>\n",
       "      <td>11.0675</td>\n",
       "      <td>12.915</td>\n",
       "      <td>17.8950</td>\n",
       "      <td>21.09</td>\n",
       "    </tr>\n",
       "    <tr>\n",
       "      <th>konsole</th>\n",
       "      <td>200.0</td>\n",
       "      <td>19.57950</td>\n",
       "      <td>3.006935</td>\n",
       "      <td>13.75</td>\n",
       "      <td>16.7500</td>\n",
       "      <td>20.410</td>\n",
       "      <td>21.7800</td>\n",
       "      <td>28.35</td>\n",
       "    </tr>\n",
       "    <tr>\n",
       "      <th>urxvt</th>\n",
       "      <td>200.0</td>\n",
       "      <td>23.47200</td>\n",
       "      <td>1.890329</td>\n",
       "      <td>19.22</td>\n",
       "      <td>22.2725</td>\n",
       "      <td>23.670</td>\n",
       "      <td>25.0050</td>\n",
       "      <td>27.01</td>\n",
       "    </tr>\n",
       "    <tr>\n",
       "      <th>st</th>\n",
       "      <td>200.0</td>\n",
       "      <td>23.82570</td>\n",
       "      <td>1.943724</td>\n",
       "      <td>15.99</td>\n",
       "      <td>22.8175</td>\n",
       "      <td>23.800</td>\n",
       "      <td>25.3725</td>\n",
       "      <td>29.17</td>\n",
       "    </tr>\n",
       "    <tr>\n",
       "      <th>alacritty</th>\n",
       "      <td>200.0</td>\n",
       "      <td>24.18640</td>\n",
       "      <td>6.140052</td>\n",
       "      <td>8.28</td>\n",
       "      <td>22.5625</td>\n",
       "      <td>26.045</td>\n",
       "      <td>28.4850</td>\n",
       "      <td>32.33</td>\n",
       "    </tr>\n",
       "    <tr>\n",
       "      <th>putty</th>\n",
       "      <td>200.0</td>\n",
       "      <td>27.75480</td>\n",
       "      <td>1.930730</td>\n",
       "      <td>23.64</td>\n",
       "      <td>25.8875</td>\n",
       "      <td>28.095</td>\n",
       "      <td>29.2300</td>\n",
       "      <td>31.65</td>\n",
       "    </tr>\n",
       "    <tr>\n",
       "      <th>xfce4</th>\n",
       "      <td>200.0</td>\n",
       "      <td>31.92990</td>\n",
       "      <td>1.706501</td>\n",
       "      <td>28.16</td>\n",
       "      <td>30.9075</td>\n",
       "      <td>31.830</td>\n",
       "      <td>33.2350</td>\n",
       "      <td>36.08</td>\n",
       "    </tr>\n",
       "    <tr>\n",
       "      <th>gnome</th>\n",
       "      <td>200.0</td>\n",
       "      <td>32.47470</td>\n",
       "      <td>1.716920</td>\n",
       "      <td>28.26</td>\n",
       "      <td>31.4325</td>\n",
       "      <td>32.645</td>\n",
       "      <td>33.7150</td>\n",
       "      <td>36.79</td>\n",
       "    </tr>\n",
       "    <tr>\n",
       "      <th>terminator</th>\n",
       "      <td>200.0</td>\n",
       "      <td>32.68660</td>\n",
       "      <td>1.516362</td>\n",
       "      <td>28.72</td>\n",
       "      <td>31.7425</td>\n",
       "      <td>32.850</td>\n",
       "      <td>33.5725</td>\n",
       "      <td>38.79</td>\n",
       "    </tr>\n",
       "  </tbody>\n",
       "</table>\n",
       "</div>"
      ],
      "text/plain": [
       "            count      mean       std    min      25%     50%      75%    max\n",
       "xterm       200.0   9.55950  3.610077   3.03   5.6475   9.460  13.1625  15.04\n",
       "mlterm      200.0  10.04665  3.980015   3.75   5.4075  11.820  13.7400  15.24\n",
       "kterm       200.0  10.39160  4.078467   2.21   5.4875  12.605  13.9800  17.94\n",
       "mrxvt       200.0  13.61730  4.091940   3.95  11.9375  13.425  17.1275  21.63\n",
       "xvt         200.0  13.94075  3.654527   7.54  11.0675  12.915  17.8950  21.09\n",
       "konsole     200.0  19.57950  3.006935  13.75  16.7500  20.410  21.7800  28.35\n",
       "urxvt       200.0  23.47200  1.890329  19.22  22.2725  23.670  25.0050  27.01\n",
       "st          200.0  23.82570  1.943724  15.99  22.8175  23.800  25.3725  29.17\n",
       "alacritty   200.0  24.18640  6.140052   8.28  22.5625  26.045  28.4850  32.33\n",
       "putty       200.0  27.75480  1.930730  23.64  25.8875  28.095  29.2300  31.65\n",
       "xfce4       200.0  31.92990  1.706501  28.16  30.9075  31.830  33.2350  36.08\n",
       "gnome       200.0  32.47470  1.716920  28.26  31.4325  32.645  33.7150  36.79\n",
       "terminator  200.0  32.68660  1.516362  28.72  31.7425  32.850  33.5725  38.79"
      ]
     },
     "execution_count": 29,
     "metadata": {},
     "output_type": "execute_result"
    }
   ],
   "source": [
    "from tabulate import tabulate\n",
    "print(tabulate(latency.describe().transpose(), headers='keys', tablefmt='pipe'))"
   ]
  },
  {
   "cell_type": "code",
   "execution_count": 31,
   "metadata": {
    "collapsed": false,
    "scrolled": true
   },
   "outputs": [
    {
     "data": {
      "text/plain": [
       "<matplotlib.text.Text at 0x7f5511e78940>"
      ]
     },
     "execution_count": 31,
     "metadata": {},
     "output_type": "execute_result"
    },
    {
     "data": {
      "image/png": "[encoded data removed]",
      "text/plain": [
       "<matplotlib.figure.Figure at 0x7f55127222e8>"
      ]
     },
     "metadata": {},
     "output_type": "display_data"
    }
   ],
   "source": [
    "fig, _ = plt.subplots()\n",
    "fig.set_figwidth(FIG_WIDTH)\n",
    "fig.set_figheight(FIG_HEIGTH)\n",
    "\n",
    "ax = sns.boxplot(data=latency, palette='colorblind')\n",
    "ax.set_title('Input latency')\n",
    "ax.set_xlabel('terminal')\n",
    "ax.set_ylabel('latency (ms)')"
   ]
  },
  {
   "cell_type": "code",
   "execution_count": 4,
   "metadata": {
    "collapsed": false
   },
   "outputs": [
    {
     "data": {
      "text/html": [
       "<div>\n",
       "<table border=\"1\" class=\"dataframe\">\n",
       "  <thead>\n",
       "    <tr style=\"text-align: right;\">\n",
       "      <th></th>\n",
       "      <th>time (s)</th>\n",
       "      <th>cpu (%)</th>\n",
       "      <th>memory (k)</th>\n",
       "    </tr>\n",
       "  </thead>\n",
       "  <tbody>\n",
       "    <tr>\n",
       "      <th>count</th>\n",
       "      <td>8.000000</td>\n",
       "      <td>8.000000</td>\n",
       "      <td>8.00000</td>\n",
       "    </tr>\n",
       "    <tr>\n",
       "      <th>mean</th>\n",
       "      <td>9.310000</td>\n",
       "      <td>52.000000</td>\n",
       "      <td>1899.50000</td>\n",
       "    </tr>\n",
       "    <tr>\n",
       "      <th>std</th>\n",
       "      <td>8.587186</td>\n",
       "      <td>34.739849</td>\n",
       "      <td>71.60008</td>\n",
       "    </tr>\n",
       "    <tr>\n",
       "      <th>min</th>\n",
       "      <td>2.520000</td>\n",
       "      <td>13.000000</td>\n",
       "      <td>1800.00000</td>\n",
       "    </tr>\n",
       "    <tr>\n",
       "      <th>25%</th>\n",
       "      <td>3.060000</td>\n",
       "      <td>26.000000</td>\n",
       "      <td>1863.00000</td>\n",
       "    </tr>\n",
       "    <tr>\n",
       "      <th>50%</th>\n",
       "      <td>6.110000</td>\n",
       "      <td>43.000000</td>\n",
       "      <td>1884.00000</td>\n",
       "    </tr>\n",
       "    <tr>\n",
       "      <th>75%</th>\n",
       "      <td>11.477500</td>\n",
       "      <td>83.000000</td>\n",
       "      <td>1954.00000</td>\n",
       "    </tr>\n",
       "    <tr>\n",
       "      <th>max</th>\n",
       "      <td>26.050000</td>\n",
       "      <td>99.000000</td>\n",
       "      <td>2000.00000</td>\n",
       "    </tr>\n",
       "  </tbody>\n",
       "</table>\n",
       "</div>"
      ],
      "text/plain": [
       "        time (s)    cpu (%)  memory (k)\n",
       "count   8.000000   8.000000     8.00000\n",
       "mean    9.310000  52.000000  1899.50000\n",
       "std     8.587186  34.739849    71.60008\n",
       "min     2.520000  13.000000  1800.00000\n",
       "25%     3.060000  26.000000  1863.00000\n",
       "50%     6.110000  43.000000  1884.00000\n",
       "75%    11.477500  83.000000  1954.00000\n",
       "max    26.050000  99.000000  2000.00000"
      ]
     },
     "execution_count": 4,
     "metadata": {},
     "output_type": "execute_result"
    }
   ],
   "source": [
    "resources = pandas.read_csv('performance.csv')\n",
    "\n",
    "ignored_terms = ['xvt',  # rare\n",
    "                 'eterm',  # too old\n",
    "                 'kterm',  # too old\n",
    "                 'mrxvt',  # mostly like rxvt\n",
    "                 'xfce4-terminal',  # like gnome-terminal\n",
    "                 'xfce4',  # synonym\n",
    "                 'terminator',  # synonym\n",
    "                 'Terminator']  # like gnome-terminal\n",
    "for terminal in ignored_terms:\n",
    "    resources = resources[resources.terminal != terminal]  # rare\n",
    "resources = resources.sort_values(by='time (s)')\n",
    "resources.sort_values(by='time (s)')\n",
    "resources.describe()"
   ]
  },
  {
   "cell_type": "code",
   "execution_count": 5,
   "metadata": {
    "collapsed": false
   },
   "outputs": [
    {
     "data": {
      "text/plain": [
       "<matplotlib.axes._subplots.AxesSubplot at 0x7f5513165588>"
      ]
     },
     "execution_count": 5,
     "metadata": {},
     "output_type": "execute_result"
    },
    {
     "data": {
      "image/png": "[encoded data removed]",
      "text/plain": [
       "<matplotlib.figure.Figure at 0x7f551315e630>"
      ]
     },
     "metadata": {},
     "output_type": "display_data"
    }
   ],
   "source": [
    "fig, _ = plt.subplots()\n",
    "fig.set_figwidth(FIG_WIDTH)\n",
    "fig.set_figheight(FIG_HEIGTH)\n",
    "\n",
    "ax = sns.barplot(data=resources, x='terminal', y='time (s)', palette='colorblind')\n",
    "ax.set_title('Processing time (smaller is better)')\n",
    "\n",
    "#g = sns.PairGrid(resources,\n",
    "#                 x_vars='terminal',\n",
    "#                 y_vars=['time (s)', 'cpu (%)', 'memory (k)'])\n",
    "#g.map(sns.barplot, palette=\"colorblind\")\n",
    "#g.fig.set_figwidth(FIG_WIDTH)\n",
    "#g.fig.set_figheight(FIG_HEIGTH)"
   ]
  },
  {
   "cell_type": "code",
   "execution_count": 6,
   "metadata": {
    "collapsed": false
   },
   "outputs": [
    {
     "data": {
      "text/html": [
       "<div>\n",
       "<table border=\"1\" class=\"dataframe\">\n",
       "  <thead>\n",
       "    <tr style=\"text-align: right;\">\n",
       "      <th></th>\n",
       "      <th>time</th>\n",
       "      <th>cpu</th>\n",
       "      <th>memory</th>\n",
       "    </tr>\n",
       "  </thead>\n",
       "  <tbody>\n",
       "    <tr>\n",
       "      <th>count</th>\n",
       "      <td>806.000000</td>\n",
       "      <td>806.000000</td>\n",
       "      <td>806.000000</td>\n",
       "    </tr>\n",
       "    <tr>\n",
       "      <th>mean</th>\n",
       "      <td>1.105881</td>\n",
       "      <td>138.888337</td>\n",
       "      <td>30745.334988</td>\n",
       "    </tr>\n",
       "    <tr>\n",
       "      <th>std</th>\n",
       "      <td>0.787527</td>\n",
       "      <td>25.121764</td>\n",
       "      <td>15464.080042</td>\n",
       "    </tr>\n",
       "    <tr>\n",
       "      <th>min</th>\n",
       "      <td>0.110000</td>\n",
       "      <td>47.000000</td>\n",
       "      <td>8324.000000</td>\n",
       "    </tr>\n",
       "    <tr>\n",
       "      <th>25%</th>\n",
       "      <td>0.480000</td>\n",
       "      <td>115.000000</td>\n",
       "      <td>22958.000000</td>\n",
       "    </tr>\n",
       "    <tr>\n",
       "      <th>50%</th>\n",
       "      <td>0.870000</td>\n",
       "      <td>127.500000</td>\n",
       "      <td>30642.000000</td>\n",
       "    </tr>\n",
       "    <tr>\n",
       "      <th>75%</th>\n",
       "      <td>1.970000</td>\n",
       "      <td>164.000000</td>\n",
       "      <td>48852.000000</td>\n",
       "    </tr>\n",
       "    <tr>\n",
       "      <th>max</th>\n",
       "      <td>3.210000</td>\n",
       "      <td>179.000000</td>\n",
       "      <td>55664.000000</td>\n",
       "    </tr>\n",
       "  </tbody>\n",
       "</table>\n",
       "</div>"
      ],
      "text/plain": [
       "             time         cpu        memory\n",
       "count  806.000000  806.000000    806.000000\n",
       "mean     1.105881  138.888337  30745.334988\n",
       "std      0.787527   25.121764  15464.080042\n",
       "min      0.110000   47.000000   8324.000000\n",
       "25%      0.480000  115.000000  22958.000000\n",
       "50%      0.870000  127.500000  30642.000000\n",
       "75%      1.970000  164.000000  48852.000000\n",
       "max      3.210000  179.000000  55664.000000"
      ]
     },
     "execution_count": 6,
     "metadata": {},
     "output_type": "execute_result"
    }
   ],
   "source": [
    "data = pandas.read_csv('times-100x100000.csv')\n",
    "data.describe()"
   ]
  },
  {
   "cell_type": "code",
   "execution_count": 7,
   "metadata": {
    "collapsed": false
   },
   "outputs": [
    {
     "data": {
      "text/plain": [
       "<matplotlib.text.Text at 0x7f55134542b0>"
      ]
     },
     "execution_count": 7,
     "metadata": {},
     "output_type": "execute_result"
    },
    {
     "data": {
      "image/png": "[encoded data removed]",
      "text/plain": [
       "<matplotlib.figure.Figure at 0x7f5513440908>"
      ]
     },
     "metadata": {},
     "output_type": "display_data"
    }
   ],
   "source": [
    "fig, _ = plt.subplots()\n",
    "fig.set_figwidth(FIG_WIDTH)\n",
    "fig.set_figheight(FIG_HEIGTH)\n",
    "\n",
    "# lots of outliers in xterm, some in pterm, but others have too little variability\n",
    "ax = sns.boxplot(data=data, x='terminal', y='time', palette='colorblind')\n",
    "ax = sns.barplot(data=data, x='terminal', y='time', palette='colorblind')\n",
    "ax.set_title('Processing time (smaller is better)')\n",
    "ax.set_ylabel('time (s)')"
   ]
  },
  {
   "cell_type": "code",
   "execution_count": 8,
   "metadata": {
    "collapsed": false
   },
   "outputs": [
    {
     "data": {
      "image/png": "[encoded data removed]",
      "text/plain": [
       "<matplotlib.figure.Figure at 0x7f55135183c8>"
      ]
     },
     "metadata": {},
     "output_type": "display_data"
    }
   ],
   "source": [
    "small = pandas.read_csv('times-10x10000.csv')\n",
    "ax = sns.boxplot(data=small, x='terminal', y='time')"
   ]
  },
  {
   "cell_type": "code",
   "execution_count": 9,
   "metadata": {
    "collapsed": false
   },
   "outputs": [
    {
     "data": {
      "text/plain": [
       "<matplotlib.text.Text at 0x7f55131d1400>"
      ]
     },
     "execution_count": 9,
     "metadata": {},
     "output_type": "execute_result"
    },
    {
     "data": {
      "image/png": "[encoded data removed]",
      "text/plain": [
       "<matplotlib.figure.Figure at 0x7f551315e390>"
      ]
     },
     "metadata": {},
     "output_type": "display_data"
    }
   ],
   "source": [
    "fig, _ = plt.subplots()\n",
    "fig.set_figwidth(FIG_WIDTH)\n",
    "fig.set_figheight(FIG_HEIGTH)\n",
    "\n",
    "ax = sns.barplot(data=data, x='terminal', y='cpu', palette='colorblind')\n",
    "ax = sns.boxplot(data=data, x='terminal', y='cpu', palette='colorblind')\n",
    "\n",
    "ax.set_title('CPU usage (correlates inversly with speed)')\n",
    "ax.set_ylabel('CPU (%)')"
   ]
  },
  {
   "cell_type": "code",
   "execution_count": 10,
   "metadata": {
    "collapsed": false
   },
   "outputs": [
    {
     "data": {
      "image/png": "[encoded data removed]",
      "text/plain": [
       "<matplotlib.figure.Figure at 0x7f55131fc908>"
      ]
     },
     "metadata": {},
     "output_type": "display_data"
    },
    {
     "data": {
      "image/png": "[encoded data removed]",
      "text/plain": [
       "<matplotlib.figure.Figure at 0x7f55131fc9e8>"
      ]
     },
     "metadata": {},
     "output_type": "display_data"
    }
   ],
   "source": [
    "sns.palplot(sns.color_palette(\"cubehelix\", 8))\n",
    "sns.palplot(sns.color_palette(\"colorblind\", 8))\n",
    "\n"
   ]
  },
  {
   "cell_type": "code",
   "execution_count": 11,
   "metadata": {
    "collapsed": false
   },
   "outputs": [
    {
     "data": {
      "text/plain": [
       "<matplotlib.text.Text at 0x7f5512cb0b38>"
      ]
     },
     "execution_count": 11,
     "metadata": {},
     "output_type": "execute_result"
    },
    {
     "data": {
      "image/png": "[encoded data removed]",
      "text/plain": [
       "<matplotlib.figure.Figure at 0x7f5512cfc940>"
      ]
     },
     "metadata": {},
     "output_type": "display_data"
    }
   ],
   "source": [
    "fig, _ = plt.subplots()\n",
    "fig.set_figwidth(FIG_WIDTH)\n",
    "fig.set_figheight(FIG_HEIGTH)\n",
    "\n",
    "# no visible variability, apart from an outlier in xterm\n",
    "ax = sns.boxplot(data=data, x='terminal', y='memory', palette='colorblind')\n",
    "ax = sns.barplot(data=data, x='terminal', y='memory', palette='colorblind')\n",
    "ax.set_title('Memory usage')\n",
    "ax.set_ylabel('memory (k)')\n"
   ]
  }
 ],
 "metadata": {
  "celltoolbar": "Raw Cell Format",
  "kernelspec": {
   "display_name": "Python 3",
   "language": "python",
   "name": "python3"
  },
  "language_info": {
   "codemirror_mode": {
    "name": "ipython",
    "version": 3
   },
   "file_extension": ".py",
   "mimetype": "text/x-python",
   "name": "python",
   "nbconvert_exporter": "python",
   "pygments_lexer": "ipython3",
   "version": "3.5.3"
  }
 },
 "nbformat": 4,
 "nbformat_minor": 2
}
