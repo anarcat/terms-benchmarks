{
 "cells": [
  {
   "cell_type": "code",
   "execution_count": 1,
   "metadata": {
    "collapsed": true
   },
   "outputs": [],
   "source": [
    "from matplotlib import pyplot as plt\n",
    "import pandas\n",
    "import seaborn as sns\n",
    "\n",
    "%matplotlib inline\n",
    "\n",
    "sns.set(rc={'image.cmap': 'cubehelix'})\n",
    "FIG_WIDTH=20\n",
    "FIG_HEIGTH=8"
   ]
  },
  {
   "cell_type": "code",
   "execution_count": 2,
   "metadata": {
    "collapsed": false
   },
   "outputs": [
    {
     "data": {
      "text/html": [
       "<div>\n",
       "<table border=\"1\" class=\"dataframe\">\n",
       "  <thead>\n",
       "    <tr style=\"text-align: right;\">\n",
       "      <th></th>\n",
       "      <th>count</th>\n",
       "      <th>mean</th>\n",
       "      <th>std</th>\n",
       "      <th>min</th>\n",
       "      <th>25%</th>\n",
       "      <th>50%</th>\n",
       "      <th>75%</th>\n",
       "      <th>max</th>\n",
       "    </tr>\n",
       "  </thead>\n",
       "  <tbody>\n",
       "    <tr>\n",
       "      <th>xterm</th>\n",
       "      <td>200.0</td>\n",
       "      <td>9.55950</td>\n",
       "      <td>3.610077</td>\n",
       "      <td>3.03</td>\n",
       "      <td>5.6475</td>\n",
       "      <td>9.460</td>\n",
       "      <td>13.1625</td>\n",
       "      <td>15.04</td>\n",
       "    </tr>\n",
       "    <tr>\n",
       "      <th>mlterm</th>\n",
       "      <td>200.0</td>\n",
       "      <td>10.04665</td>\n",
       "      <td>3.980015</td>\n",
       "      <td>3.75</td>\n",
       "      <td>5.4075</td>\n",
       "      <td>11.820</td>\n",
       "      <td>13.7400</td>\n",
       "      <td>15.24</td>\n",
       "    </tr>\n",
       "    <tr>\n",
       "      <th>kterm</th>\n",
       "      <td>200.0</td>\n",
       "      <td>10.39160</td>\n",
       "      <td>4.078467</td>\n",
       "      <td>2.21</td>\n",
       "      <td>5.4875</td>\n",
       "      <td>12.605</td>\n",
       "      <td>13.9800</td>\n",
       "      <td>17.94</td>\n",
       "    </tr>\n",
       "    <tr>\n",
       "      <th>mrxvt</th>\n",
       "      <td>200.0</td>\n",
       "      <td>13.61730</td>\n",
       "      <td>4.091940</td>\n",
       "      <td>3.95</td>\n",
       "      <td>11.9375</td>\n",
       "      <td>13.425</td>\n",
       "      <td>17.1275</td>\n",
       "      <td>21.63</td>\n",
       "    </tr>\n",
       "    <tr>\n",
       "      <th>xvt</th>\n",
       "      <td>200.0</td>\n",
       "      <td>13.94075</td>\n",
       "      <td>3.654527</td>\n",
       "      <td>7.54</td>\n",
       "      <td>11.0675</td>\n",
       "      <td>12.915</td>\n",
       "      <td>17.8950</td>\n",
       "      <td>21.09</td>\n",
       "    </tr>\n",
       "    <tr>\n",
       "      <th>konsole</th>\n",
       "      <td>200.0</td>\n",
       "      <td>19.57950</td>\n",
       "      <td>3.006935</td>\n",
       "      <td>13.75</td>\n",
       "      <td>16.7500</td>\n",
       "      <td>20.410</td>\n",
       "      <td>21.7800</td>\n",
       "      <td>28.35</td>\n",
       "    </tr>\n",
       "    <tr>\n",
       "      <th>urxvt</th>\n",
       "      <td>200.0</td>\n",
       "      <td>23.47200</td>\n",
       "      <td>1.890329</td>\n",
       "      <td>19.22</td>\n",
       "      <td>22.2725</td>\n",
       "      <td>23.670</td>\n",
       "      <td>25.0050</td>\n",
       "      <td>27.01</td>\n",
       "    </tr>\n",
       "    <tr>\n",
       "      <th>st</th>\n",
       "      <td>200.0</td>\n",
       "      <td>23.82570</td>\n",
       "      <td>1.943724</td>\n",
       "      <td>15.99</td>\n",
       "      <td>22.8175</td>\n",
       "      <td>23.800</td>\n",
       "      <td>25.3725</td>\n",
       "      <td>29.17</td>\n",
       "    </tr>\n",
       "    <tr>\n",
       "      <th>alacritty</th>\n",
       "      <td>200.0</td>\n",
       "      <td>24.18640</td>\n",
       "      <td>6.140052</td>\n",
       "      <td>8.28</td>\n",
       "      <td>22.5625</td>\n",
       "      <td>26.045</td>\n",
       "      <td>28.4850</td>\n",
       "      <td>32.33</td>\n",
       "    </tr>\n",
       "    <tr>\n",
       "      <th>putty</th>\n",
       "      <td>200.0</td>\n",
       "      <td>27.75480</td>\n",
       "      <td>1.930730</td>\n",
       "      <td>23.64</td>\n",
       "      <td>25.8875</td>\n",
       "      <td>28.095</td>\n",
       "      <td>29.2300</td>\n",
       "      <td>31.65</td>\n",
       "    </tr>\n",
       "    <tr>\n",
       "      <th>xfce4</th>\n",
       "      <td>200.0</td>\n",
       "      <td>31.92990</td>\n",
       "      <td>1.706501</td>\n",
       "      <td>28.16</td>\n",
       "      <td>30.9075</td>\n",
       "      <td>31.830</td>\n",
       "      <td>33.2350</td>\n",
       "      <td>36.08</td>\n",
       "    </tr>\n",
       "    <tr>\n",
       "      <th>gnome</th>\n",
       "      <td>200.0</td>\n",
       "      <td>32.47470</td>\n",
       "      <td>1.716920</td>\n",
       "      <td>28.26</td>\n",
       "      <td>31.4325</td>\n",
       "      <td>32.645</td>\n",
       "      <td>33.7150</td>\n",
       "      <td>36.79</td>\n",
       "    </tr>\n",
       "    <tr>\n",
       "      <th>terminator</th>\n",
       "      <td>200.0</td>\n",
       "      <td>32.68660</td>\n",
       "      <td>1.516362</td>\n",
       "      <td>28.72</td>\n",
       "      <td>31.7425</td>\n",
       "      <td>32.850</td>\n",
       "      <td>33.5725</td>\n",
       "      <td>38.79</td>\n",
       "    </tr>\n",
       "  </tbody>\n",
       "</table>\n",
       "</div>"
      ],
      "text/plain": [
       "            count      mean       std    min      25%     50%      75%    max\n",
       "xterm       200.0   9.55950  3.610077   3.03   5.6475   9.460  13.1625  15.04\n",
       "mlterm      200.0  10.04665  3.980015   3.75   5.4075  11.820  13.7400  15.24\n",
       "kterm       200.0  10.39160  4.078467   2.21   5.4875  12.605  13.9800  17.94\n",
       "mrxvt       200.0  13.61730  4.091940   3.95  11.9375  13.425  17.1275  21.63\n",
       "xvt         200.0  13.94075  3.654527   7.54  11.0675  12.915  17.8950  21.09\n",
       "konsole     200.0  19.57950  3.006935  13.75  16.7500  20.410  21.7800  28.35\n",
       "urxvt       200.0  23.47200  1.890329  19.22  22.2725  23.670  25.0050  27.01\n",
       "st          200.0  23.82570  1.943724  15.99  22.8175  23.800  25.3725  29.17\n",
       "alacritty   200.0  24.18640  6.140052   8.28  22.5625  26.045  28.4850  32.33\n",
       "putty       200.0  27.75480  1.930730  23.64  25.8875  28.095  29.2300  31.65\n",
       "xfce4       200.0  31.92990  1.706501  28.16  30.9075  31.830  33.2350  36.08\n",
       "gnome       200.0  32.47470  1.716920  28.26  31.4325  32.645  33.7150  36.79\n",
       "terminator  200.0  32.68660  1.516362  28.72  31.7425  32.850  33.5725  38.79"
      ]
     },
     "execution_count": 2,
     "metadata": {},
     "output_type": "execute_result"
    }
   ],
   "source": [
    "latency = pandas.read_csv('latency-all.csv')\n",
    "\n",
    "for terminal in []:  # use ignored_terms to skip the same as above\n",
    "    try:\n",
    "        latency.drop(terminal, axis=1, inplace=True)\n",
    "    except ValueError:\n",
    "        pass\n",
    "latency.describe().transpose()"
   ]
  },
  {
   "cell_type": "code",
   "execution_count": 3,
   "metadata": {
    "collapsed": false
   },
   "outputs": [
    {
     "name": "stdout",
     "output_type": "stream",
     "text": [
      "|            |   count |    mean |     std |   min |     25% |    50% |     75% |   max |\n",
      "|:-----------|--------:|--------:|--------:|------:|--------:|-------:|--------:|------:|\n",
      "| xterm      |     200 |  9.5595 | 3.61008 |  3.03 |  5.6475 |  9.46  | 13.1625 | 15.04 |\n",
      "| mlterm     |     200 | 10.0466 | 3.98002 |  3.75 |  5.4075 | 11.82  | 13.74   | 15.24 |\n",
      "| kterm      |     200 | 10.3916 | 4.07847 |  2.21 |  5.4875 | 12.605 | 13.98   | 17.94 |\n",
      "| mrxvt      |     200 | 13.6173 | 4.09194 |  3.95 | 11.9375 | 13.425 | 17.1275 | 21.63 |\n",
      "| xvt        |     200 | 13.9408 | 3.65453 |  7.54 | 11.0675 | 12.915 | 17.895  | 21.09 |\n",
      "| konsole    |     200 | 19.5795 | 3.00694 | 13.75 | 16.75   | 20.41  | 21.78   | 28.35 |\n",
      "| urxvt      |     200 | 23.472  | 1.89033 | 19.22 | 22.2725 | 23.67  | 25.005  | 27.01 |\n",
      "| st         |     200 | 23.8257 | 1.94372 | 15.99 | 22.8175 | 23.8   | 25.3725 | 29.17 |\n",
      "| alacritty  |     200 | 24.1864 | 6.14005 |  8.28 | 22.5625 | 26.045 | 28.485  | 32.33 |\n",
      "| putty      |     200 | 27.7548 | 1.93073 | 23.64 | 25.8875 | 28.095 | 29.23   | 31.65 |\n",
      "| xfce4      |     200 | 31.9299 | 1.7065  | 28.16 | 30.9075 | 31.83  | 33.235  | 36.08 |\n",
      "| gnome      |     200 | 32.4747 | 1.71692 | 28.26 | 31.4325 | 32.645 | 33.715  | 36.79 |\n",
      "| terminator |     200 | 32.6866 | 1.51636 | 28.72 | 31.7425 | 32.85  | 33.5725 | 38.79 |\n"
     ]
    }
   ],
   "source": [
    "from tabulate import tabulate\n",
    "print(tabulate(latency.describe().transpose(), headers='keys', tablefmt='pipe'))"
   ]
  },
  {
   "cell_type": "code",
   "execution_count": 15,
   "metadata": {
    "collapsed": false,
    "scrolled": true
   },
   "outputs": [
    {
     "data": {
      "text/plain": [
       "<matplotlib.text.Text at 0x7feac0623ef0>"
      ]
     },
     "execution_count": 15,
     "metadata": {},
     "output_type": "execute_result"
    },
    {
     "data": {
      "image/png": "[encoded data removed]",
      "text/plain": [
       "<matplotlib.figure.Figure at 0x7feac06f0978>"
      ]
     },
     "metadata": {},
     "output_type": "display_data"
    }
   ],
   "source": [
    "fig, _ = plt.subplots()\n",
    "fig.set_figwidth(FIG_WIDTH)\n",
    "fig.set_figheight(FIG_HEIGTH)\n",
    "\n",
    "ax = sns.boxplot(data=latency, palette='colorblind')\n",
    "ax.set_title('Terminal input latency')\n",
    "ax.set_xlabel('terminal')\n",
    "ax.set_ylabel('latency (ms)')"
   ]
  },
  {
   "cell_type": "code",
   "execution_count": 16,
   "metadata": {
    "collapsed": false
   },
   "outputs": [
    {
     "data": {
      "text/html": [
       "<div>\n",
       "<table border=\"1\" class=\"dataframe\">\n",
       "  <thead>\n",
       "    <tr style=\"text-align: right;\">\n",
       "      <th></th>\n",
       "      <th>count</th>\n",
       "      <th>mean</th>\n",
       "      <th>std</th>\n",
       "      <th>min</th>\n",
       "      <th>25%</th>\n",
       "      <th>50%</th>\n",
       "      <th>75%</th>\n",
       "      <th>max</th>\n",
       "    </tr>\n",
       "  </thead>\n",
       "  <tbody>\n",
       "    <tr>\n",
       "      <th>emacs</th>\n",
       "      <td>200.0</td>\n",
       "      <td>6.46015</td>\n",
       "      <td>4.353637</td>\n",
       "      <td>0.97</td>\n",
       "      <td>5.3775</td>\n",
       "      <td>6.280</td>\n",
       "      <td>6.8725</td>\n",
       "      <td>57.06</td>\n",
       "    </tr>\n",
       "    <tr>\n",
       "      <th>vim.gtk3</th>\n",
       "      <td>200.0</td>\n",
       "      <td>16.50690</td>\n",
       "      <td>7.922458</td>\n",
       "      <td>0.37</td>\n",
       "      <td>15.7725</td>\n",
       "      <td>20.555</td>\n",
       "      <td>21.1900</td>\n",
       "      <td>27.22</td>\n",
       "    </tr>\n",
       "    <tr>\n",
       "      <th>vim.gtk</th>\n",
       "      <td>200.0</td>\n",
       "      <td>3.88750</td>\n",
       "      <td>1.239527</td>\n",
       "      <td>0.67</td>\n",
       "      <td>3.6250</td>\n",
       "      <td>4.230</td>\n",
       "      <td>4.5300</td>\n",
       "      <td>11.90</td>\n",
       "    </tr>\n",
       "    <tr>\n",
       "      <th>vim.athena</th>\n",
       "      <td>200.0</td>\n",
       "      <td>2.80030</td>\n",
       "      <td>1.144322</td>\n",
       "      <td>0.37</td>\n",
       "      <td>2.3875</td>\n",
       "      <td>2.870</td>\n",
       "      <td>3.2325</td>\n",
       "      <td>12.67</td>\n",
       "    </tr>\n",
       "    <tr>\n",
       "      <th>gedit</th>\n",
       "      <td>200.0</td>\n",
       "      <td>8.90400</td>\n",
       "      <td>3.365788</td>\n",
       "      <td>2.83</td>\n",
       "      <td>6.2325</td>\n",
       "      <td>9.835</td>\n",
       "      <td>11.9825</td>\n",
       "      <td>14.22</td>\n",
       "    </tr>\n",
       "  </tbody>\n",
       "</table>\n",
       "</div>"
      ],
      "text/plain": [
       "            count      mean       std   min      25%     50%      75%    max\n",
       "emacs       200.0   6.46015  4.353637  0.97   5.3775   6.280   6.8725  57.06\n",
       "vim.gtk3    200.0  16.50690  7.922458  0.37  15.7725  20.555  21.1900  27.22\n",
       "vim.gtk     200.0   3.88750  1.239527  0.67   3.6250   4.230   4.5300  11.90\n",
       "vim.athena  200.0   2.80030  1.144322  0.37   2.3875   2.870   3.2325  12.67\n",
       "gedit       200.0   8.90400  3.365788  2.83   6.2325   9.835  11.9825  14.22"
      ]
     },
     "execution_count": 16,
     "metadata": {},
     "output_type": "execute_result"
    }
   ],
   "source": [
    "latency = pandas.read_csv('editors.csv')\n",
    "latency.describe().transpose()"
   ]
  },
  {
   "cell_type": "code",
   "execution_count": 17,
   "metadata": {
    "collapsed": false
   },
   "outputs": [
    {
     "data": {
      "text/plain": [
       "<matplotlib.text.Text at 0x7feac0d25ef0>"
      ]
     },
     "execution_count": 17,
     "metadata": {},
     "output_type": "execute_result"
    },
    {
     "data": {
      "image/png": "[encoded data removed]",
      "text/plain": [
       "<matplotlib.figure.Figure at 0x7feac0f57550>"
      ]
     },
     "metadata": {},
     "output_type": "display_data"
    }
   ],
   "source": [
    "fig, _ = plt.subplots()\n",
    "fig.set_figwidth(FIG_WIDTH)\n",
    "fig.set_figheight(FIG_HEIGTH)\n",
    "\n",
    "ax = sns.boxplot(data=latency, palette='colorblind')\n",
    "ax.set_title('Editor input latency')\n",
    "ax.set_ylabel('latency (ms)')"
   ]
  },
  {
   "cell_type": "code",
   "execution_count": 13,
   "metadata": {
    "collapsed": false
   },
   "outputs": [
    {
     "data": {
      "text/html": [
       "<div>\n",
       "<table border=\"1\" class=\"dataframe\">\n",
       "  <thead>\n",
       "    <tr style=\"text-align: right;\">\n",
       "      <th></th>\n",
       "      <th>time (s)</th>\n",
       "      <th>cpu (%)</th>\n",
       "      <th>memory (k)</th>\n",
       "    </tr>\n",
       "  </thead>\n",
       "  <tbody>\n",
       "    <tr>\n",
       "      <th>count</th>\n",
       "      <td>9.000000</td>\n",
       "      <td>9.000000</td>\n",
       "      <td>9.000000</td>\n",
       "    </tr>\n",
       "    <tr>\n",
       "      <th>mean</th>\n",
       "      <td>10.961111</td>\n",
       "      <td>49.444444</td>\n",
       "      <td>1890.666667</td>\n",
       "    </tr>\n",
       "    <tr>\n",
       "      <th>std</th>\n",
       "      <td>9.437045</td>\n",
       "      <td>33.388288</td>\n",
       "      <td>72.027772</td>\n",
       "    </tr>\n",
       "    <tr>\n",
       "      <th>min</th>\n",
       "      <td>2.520000</td>\n",
       "      <td>13.000000</td>\n",
       "      <td>1800.000000</td>\n",
       "    </tr>\n",
       "    <tr>\n",
       "      <th>25%</th>\n",
       "      <td>3.150000</td>\n",
       "      <td>29.000000</td>\n",
       "      <td>1824.000000</td>\n",
       "    </tr>\n",
       "    <tr>\n",
       "      <th>50%</th>\n",
       "      <td>6.900000</td>\n",
       "      <td>38.000000</td>\n",
       "      <td>1880.000000</td>\n",
       "    </tr>\n",
       "    <tr>\n",
       "      <th>75%</th>\n",
       "      <td>18.670000</td>\n",
       "      <td>79.000000</td>\n",
       "      <td>1944.000000</td>\n",
       "    </tr>\n",
       "    <tr>\n",
       "      <th>max</th>\n",
       "      <td>26.050000</td>\n",
       "      <td>99.000000</td>\n",
       "      <td>2000.000000</td>\n",
       "    </tr>\n",
       "  </tbody>\n",
       "</table>\n",
       "</div>"
      ],
      "text/plain": [
       "        time (s)    cpu (%)   memory (k)\n",
       "count   9.000000   9.000000     9.000000\n",
       "mean   10.961111  49.444444  1890.666667\n",
       "std     9.437045  33.388288    72.027772\n",
       "min     2.520000  13.000000  1800.000000\n",
       "25%     3.150000  29.000000  1824.000000\n",
       "50%     6.900000  38.000000  1880.000000\n",
       "75%    18.670000  79.000000  1944.000000\n",
       "max    26.050000  99.000000  2000.000000"
      ]
     },
     "execution_count": 13,
     "metadata": {},
     "output_type": "execute_result"
    }
   ],
   "source": [
    "resources = pandas.read_csv('performance.csv')\n",
    "\n",
    "ignored_terms = ['xvt',  # rare\n",
    "                 'eterm',  # too old\n",
    "                 'mrxvt',  # mostly like rxvt\n",
    "                 'xfce4-terminal',  # like gnome-terminal\n",
    "                 'xfce4',  # synonym\n",
    "                 'terminator',  # synonym\n",
    "                 'Terminator']  # like gnome-terminal\n",
    "for terminal in ignored_terms:\n",
    "    resources = resources[resources.terminal != terminal]  # rare\n",
    "resources = resources.sort_values(by='time (s)')\n",
    "resources.sort_values(by='time (s)')\n",
    "resources.describe()"
   ]
  },
  {
   "cell_type": "code",
   "execution_count": 14,
   "metadata": {
    "collapsed": false
   },
   "outputs": [
    {
     "data": {
      "text/plain": [
       "<matplotlib.text.Text at 0x7feac069d278>"
      ]
     },
     "execution_count": 14,
     "metadata": {},
     "output_type": "execute_result"
    },
    {
     "data": {
      "image/png": "[encoded data removed]",
      "text/plain": [
       "<matplotlib.figure.Figure at 0x7feac06f08d0>"
      ]
     },
     "metadata": {},
     "output_type": "display_data"
    }
   ],
   "source": [
    "fig, _ = plt.subplots()\n",
    "fig.set_figwidth(FIG_WIDTH)\n",
    "fig.set_figheight(FIG_HEIGTH)\n",
    "\n",
    "ax = sns.barplot(data=resources, x='terminal', y='time (s)', palette='colorblind')\n",
    "ax.set_title('Processing time (smaller is better)')\n",
    "\n",
    "#g = sns.PairGrid(resources,\n",
    "#                 x_vars='terminal',\n",
    "#                 y_vars=['time (s)', 'cpu (%)', 'memory (k)'])\n",
    "#g.map(sns.barplot, palette=\"colorblind\")\n",
    "#g.fig.set_figwidth(FIG_WIDTH)\n",
    "#g.fig.set_figheight(FIG_HEIGTH)"
   ]
  },
  {
   "cell_type": "code",
   "execution_count": 7,
   "metadata": {
    "collapsed": false
   },
   "outputs": [
    {
     "data": {
      "text/html": [
       "<div>\n",
       "<table border=\"1\" class=\"dataframe\">\n",
       "  <thead>\n",
       "    <tr style=\"text-align: right;\">\n",
       "      <th></th>\n",
       "      <th>time</th>\n",
       "      <th>cpu</th>\n",
       "      <th>memory</th>\n",
       "    </tr>\n",
       "  </thead>\n",
       "  <tbody>\n",
       "    <tr>\n",
       "      <th>count</th>\n",
       "      <td>806.000000</td>\n",
       "      <td>806.000000</td>\n",
       "      <td>806.000000</td>\n",
       "    </tr>\n",
       "    <tr>\n",
       "      <th>mean</th>\n",
       "      <td>1.105881</td>\n",
       "      <td>138.888337</td>\n",
       "      <td>30745.334988</td>\n",
       "    </tr>\n",
       "    <tr>\n",
       "      <th>std</th>\n",
       "      <td>0.787527</td>\n",
       "      <td>25.121764</td>\n",
       "      <td>15464.080042</td>\n",
       "    </tr>\n",
       "    <tr>\n",
       "      <th>min</th>\n",
       "      <td>0.110000</td>\n",
       "      <td>47.000000</td>\n",
       "      <td>8324.000000</td>\n",
       "    </tr>\n",
       "    <tr>\n",
       "      <th>25%</th>\n",
       "      <td>0.480000</td>\n",
       "      <td>115.000000</td>\n",
       "      <td>22958.000000</td>\n",
       "    </tr>\n",
       "    <tr>\n",
       "      <th>50%</th>\n",
       "      <td>0.870000</td>\n",
       "      <td>127.500000</td>\n",
       "      <td>30642.000000</td>\n",
       "    </tr>\n",
       "    <tr>\n",
       "      <th>75%</th>\n",
       "      <td>1.970000</td>\n",
       "      <td>164.000000</td>\n",
       "      <td>48852.000000</td>\n",
       "    </tr>\n",
       "    <tr>\n",
       "      <th>max</th>\n",
       "      <td>3.210000</td>\n",
       "      <td>179.000000</td>\n",
       "      <td>55664.000000</td>\n",
       "    </tr>\n",
       "  </tbody>\n",
       "</table>\n",
       "</div>"
      ],
      "text/plain": [
       "             time         cpu        memory\n",
       "count  806.000000  806.000000    806.000000\n",
       "mean     1.105881  138.888337  30745.334988\n",
       "std      0.787527   25.121764  15464.080042\n",
       "min      0.110000   47.000000   8324.000000\n",
       "25%      0.480000  115.000000  22958.000000\n",
       "50%      0.870000  127.500000  30642.000000\n",
       "75%      1.970000  164.000000  48852.000000\n",
       "max      3.210000  179.000000  55664.000000"
      ]
     },
     "execution_count": 7,
     "metadata": {},
     "output_type": "execute_result"
    }
   ],
   "source": [
    "data = pandas.read_csv('times-100x100000.csv')\n",
    "data.describe()"
   ]
  },
  {
   "cell_type": "code",
   "execution_count": 8,
   "metadata": {
    "collapsed": false
   },
   "outputs": [
    {
     "name": "stdout",
     "output_type": "stream",
     "text": [
      "                             cpu        memory        time\n",
      "terminal                                                  \n",
      "alacritty      count  100.000000    100.000000  100.000000\n",
      "               mean   160.730000  29544.760000    0.492300\n",
      "               std      1.906157    202.161008    0.008147\n",
      "               min    156.000000  29080.000000    0.480000\n",
      "               25%    159.000000  29427.000000    0.490000\n",
      "               50%    161.000000  29598.000000    0.490000\n",
      "               75%    162.000000  29681.000000    0.490000\n",
      "               max    165.000000  29880.000000    0.530000\n",
      "konsole        count  100.000000    100.000000  100.000000\n",
      "               mean   138.490000  55342.520000    0.734300\n",
      "               std      1.352103    130.573442    0.030126\n",
      "               min    133.000000  55056.000000    0.700000\n",
      "               25%    138.000000  55258.000000    0.710000\n",
      "               50%    139.000000  55340.000000    0.725000\n",
      "               75%    139.000000  55425.000000    0.750000\n",
      "               max    141.000000  55664.000000    0.850000\n",
      "mlterm         count  100.000000    100.000000  100.000000\n",
      "               mean   114.820000  11435.200000    1.210800\n",
      "               std      5.364266     86.273233    0.043197\n",
      "               min    106.000000  11280.000000    1.100000\n",
      "               25%    110.000000  11371.000000    1.190000\n",
      "               50%    114.000000  11412.000000    1.210000\n",
      "               75%    118.000000  11478.000000    1.240000\n",
      "               max    131.000000  11696.000000    1.340000\n",
      "pterm          count  100.000000    100.000000  100.000000\n",
      "               mean   114.970000  23410.600000    1.991600\n",
      "               std      3.251899    202.394854    0.146658\n",
      "               min     91.000000  22956.000000    0.850000\n",
      "               25%    115.000000  23296.000000    1.990000\n",
      "               50%    115.000000  23430.000000    2.000000\n",
      "               75%    115.000000  23576.000000    2.010000\n",
      "               max    135.000000  23776.000000    2.590000\n",
      "stterm         count  100.000000    100.000000  100.000000\n",
      "               mean   174.480000   8453.520000    0.402200\n",
      "               std      2.376144     79.482732    0.016489\n",
      "               min    165.000000   8324.000000    0.380000\n",
      "               25%    173.000000   8384.000000    0.390000\n",
      "               50%    175.000000   8434.000000    0.400000\n",
      "               75%    176.000000   8501.000000    0.410000\n",
      "               max    179.000000   8616.000000    0.460000\n",
      "urxvt          count  100.000000    100.000000  100.000000\n",
      "               mean   172.250000  30858.560000    0.385500\n",
      "               std      1.388081    135.163823    0.007571\n",
      "               min    166.000000  30604.000000    0.370000\n",
      "               25%    172.000000  30764.000000    0.380000\n",
      "               50%    172.000000  30846.000000    0.380000\n",
      "               75%    173.000000  30961.000000    0.390000\n",
      "               max    176.000000  31108.000000    0.410000\n",
      "uxterm         count  106.000000    106.000000  106.000000\n",
      "               mean   111.433962  48738.792453    2.648208\n",
      "               std      6.426165   3271.071200    0.268338\n",
      "               min     47.000000  15396.000000    0.110000\n",
      "               25%    112.000000  48984.000000    2.630000\n",
      "               50%    112.000000  49070.000000    2.640000\n",
      "               75%    113.000000  49140.000000    2.660000\n",
      "               max    114.000000  49264.000000    3.210000\n",
      "xfce4-terminal count  100.000000    100.000000  100.000000\n",
      "               mean   125.580000  37099.120000    0.889600\n",
      "               std      0.854932    231.841520    0.010910\n",
      "               min    122.000000  36660.000000    0.870000\n",
      "               25%    125.000000  36919.000000    0.880000\n",
      "               50%    126.000000  37086.000000    0.890000\n",
      "               75%    126.000000  37268.000000    0.890000\n",
      "               max    128.000000  37692.000000    0.920000\n"
     ]
    }
   ],
   "source": [
    "print(data.groupby('terminal').describe().to_string())"
   ]
  },
  {
   "cell_type": "code",
   "execution_count": 9,
   "metadata": {
    "collapsed": false
   },
   "outputs": [
    {
     "data": {
      "text/plain": [
       "<matplotlib.text.Text at 0x7feac0f08550>"
      ]
     },
     "execution_count": 9,
     "metadata": {},
     "output_type": "execute_result"
    },
    {
     "data": {
      "image/png": "[encoded data removed]",
      "text/plain": [
       "<matplotlib.figure.Figure at 0x7feac0f57a58>"
      ]
     },
     "metadata": {},
     "output_type": "display_data"
    }
   ],
   "source": [
    "fig, _ = plt.subplots()\n",
    "fig.set_figwidth(FIG_WIDTH)\n",
    "fig.set_figheight(FIG_HEIGTH)\n",
    "\n",
    "# lots of outliers in xterm, some in pterm, but others have too little variability\n",
    "ax = sns.boxplot(data=data, x='terminal', y='time', palette='colorblind')\n",
    "ax = sns.barplot(data=data, x='terminal', y='time', palette='colorblind')\n",
    "ax.set_title('Processing time (smaller is better)')\n",
    "ax.set_ylabel('time (s)')"
   ]
  },
  {
   "cell_type": "code",
   "execution_count": 10,
   "metadata": {
    "collapsed": false
   },
   "outputs": [
    {
     "data": {
      "image/png": "[encoded data removed]",
      "text/plain": [
       "<matplotlib.figure.Figure at 0x7feac0c1d978>"
      ]
     },
     "metadata": {},
     "output_type": "display_data"
    }
   ],
   "source": [
    "small = pandas.read_csv('times-10x10000.csv')\n",
    "ax = sns.boxplot(data=small, x='terminal', y='time')"
   ]
  },
  {
   "cell_type": "code",
   "execution_count": 11,
   "metadata": {
    "collapsed": false
   },
   "outputs": [
    {
     "data": {
      "text/plain": [
       "<matplotlib.text.Text at 0x7feac09a2fd0>"
      ]
     },
     "execution_count": 11,
     "metadata": {},
     "output_type": "execute_result"
    },
    {
     "data": {
      "image/png": "[encoded data removed]",
      "text/plain": [
       "<matplotlib.figure.Figure at 0x7feac0cbcc50>"
      ]
     },
     "metadata": {},
     "output_type": "display_data"
    }
   ],
   "source": [
    "fig, _ = plt.subplots()\n",
    "fig.set_figwidth(FIG_WIDTH)\n",
    "fig.set_figheight(FIG_HEIGTH)\n",
    "\n",
    "ax = sns.barplot(data=data, x='terminal', y='cpu', palette='colorblind')\n",
    "ax = sns.boxplot(data=data, x='terminal', y='cpu', palette='colorblind')\n",
    "\n",
    "ax.set_title('CPU usage (correlates inversly with speed)')\n",
    "ax.set_ylabel('CPU (%)')"
   ]
  },
  {
   "cell_type": "code",
   "execution_count": 12,
   "metadata": {
    "collapsed": false
   },
   "outputs": [
    {
     "data": {
      "text/plain": [
       "<matplotlib.text.Text at 0x7feac081ba90>"
      ]
     },
     "execution_count": 12,
     "metadata": {},
     "output_type": "execute_result"
    },
    {
     "data": {
      "image/png": "[encoded data removed]",
      "text/plain": [
       "<matplotlib.figure.Figure at 0x7feac0881780>"
      ]
     },
     "metadata": {},
     "output_type": "display_data"
    }
   ],
   "source": [
    "fig, _ = plt.subplots()\n",
    "fig.set_figwidth(FIG_WIDTH)\n",
    "fig.set_figheight(FIG_HEIGTH)\n",
    "\n",
    "# no visible variability, apart from an outlier in xterm\n",
    "ax = sns.boxplot(data=data, x='terminal', y='memory', palette='colorblind')\n",
    "ax = sns.barplot(data=data, x='terminal', y='memory', palette='colorblind')\n",
    "ax.set_title('Memory usage')\n",
    "ax.set_ylabel('memory (k)')\n"
   ]
  }
 ],
 "metadata": {
  "celltoolbar": "Raw Cell Format",
  "kernelspec": {
   "display_name": "Python 3",
   "language": "python",
   "name": "python3"
  },
  "language_info": {
   "codemirror_mode": {
    "name": "ipython",
    "version": 3
   },
   "file_extension": ".py",
   "mimetype": "text/x-python",
   "name": "python",
   "nbconvert_exporter": "python",
   "pygments_lexer": "ipython3",
   "version": "3.5.3"
  }
 },
 "nbformat": 4,
 "nbformat_minor": 2
}
